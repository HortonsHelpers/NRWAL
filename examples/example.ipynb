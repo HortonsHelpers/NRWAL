{
 "cells": [
  {
   "cell_type": "markdown",
   "metadata": {},
   "source": [
    "# NRWAL Example Notebook"
   ]
  },
  {
   "cell_type": "code",
   "execution_count": 1,
   "metadata": {},
   "outputs": [],
   "source": [
    "import numpy as np\n",
    "from NRWAL import NrwalConfig"
   ]
  },
  {
   "cell_type": "markdown",
   "metadata": {},
   "source": [
    "## Initializing a NRWAL Config Object\n",
    "\n",
    "The NRWAL Config object can be instantiated by pointing at a NRWAL yaml file. There are several default config files in the NRWAL repository that are ready to be used out-of-the-box. \n",
    "\n",
    "The string representation of the NRWAL config shows all of the config equations and variables available to the object at a high level. Equations are represented short-hand using the syntax: `equation_name(independent_variables, default_variables=default_values)`"
   ]
  },
  {
   "cell_type": "code",
   "execution_count": 2,
   "metadata": {},
   "outputs": [
    {
     "data": {
      "text/plain": [
       "NrwalConfig object with equation directory: \"/home/gbuster/code/NRWAL/analysis_library\"\n",
       "fixed_charge_rate\n",
       "\t0.071\n",
       "development_factor\n",
       "\t0.04\n",
       "proj_mgmt_factor\n",
       "\t0.02\n",
       "construction_insurance\n",
       "\t0.0115\n",
       "project_completion\n",
       "\t0.0115\n",
       "decomissioning\n",
       "\t0.1725\n",
       "procurement_contingency\n",
       "\t0.0575\n",
       "install_contingency\n",
       "\t0.345\n",
       "lease_price\n",
       "\t50000000\n",
       "confin_factor\n",
       "\t1.043012405771711\n",
       "interest_during_construction\n",
       "\t0.044\n",
       "tax_rate\n",
       "\t0.26\n",
       "cost_reductions\n",
       "\tEquationGroup object from \"fixed\" with heirarchy:\n",
       "\t0.1048\n",
       "\t0.0\n",
       "\t0.0\n",
       "\t0.0\n",
       "\t0.0\n",
       "\t0.088\n",
       "\t0.1863\n",
       "\t0.2635\n",
       "\t0.0203\n",
       "\t0.0\n",
       "\t0.0\n",
       "\t0.0\n",
       "\t0.0\n",
       "\t0.0\n",
       "\t0.0\n",
       "\t0.0\n",
       "\t0.1132\n",
       "\t0.0\n",
       "\t0.0\n",
       "\t0.0\n",
       "\t0.0304\n",
       "\t0.0\n",
       "\t0.0\n",
       "\t0.0\n",
       "\t0.142\n",
       "\t0.0\n",
       "\t0.0\n",
       "\t0.0\n",
       "\t0.0\n",
       "\t-0.0112\n",
       "\t-0.0371\n",
       "\t-0.0799\n",
       "\t0.1272\n",
       "\t0.0\n",
       "\t0.0\n",
       "\t0.0\n",
       "\t0.0\n",
       "\t0.0776\n",
       "\t0.1871\n",
       "\t0.2777\n",
       "\t0.0\n",
       "\t0.0\n",
       "\t0.0\n",
       "\t0.0\n",
       "\t0.1511\n",
       "\t0.0\n",
       "\t0.0\n",
       "\t0.0\n",
       "\t0.112\n",
       "\t0.0\n",
       "\t0.0\n",
       "\t0.0\n",
       "\t0.056\n",
       "\t0.0\n",
       "\t0.0\n",
       "\t0.0\n",
       "\t0.0963\n",
       "\t0.0\n",
       "\t0.0\n",
       "\t0.0\n",
       "turbine\n",
       "\tturbine(num_turbines, turbine_capacity)\n",
       "turbine_install\n",
       "\tturbine_install(depth, dist_p_to_s, fixed_downtime, num_turbines, turbine_capacity)\n",
       "substructure\n",
       "\tsubstructure(depth, num_turbines, monopile_tp_cost=3230.0, outfitting_cost=7250.0)\n",
       "foundation\n",
       "\tfoundation(depth, num_turbines, pile_cost=2250.0)\n",
       "sub_install\n",
       "\tsub_install(depth, dist_p_to_s, fixed_downtime, num_turbines, turbine_capacity)\n",
       "pslt\n",
       "\tpslt(depth, dist_p_to_s, num_turbines, port_cost=25000000.0)\n",
       "array\n",
       "\tarray(depth, num_turbines)\n",
       "export\n",
       "\texport(dist_s_to_l)\n",
       "grid\n",
       "\tgrid(dist_l_to_ts, num_turbines, transmission_multi, turbine_capacity, transmission_cost=6536.666666666667)\n",
       "support\n",
       "\tsupport(depth, num_turbines, monopile_tp_cost=3230.0, outfitting_cost=7250.0, pile_cost=2250.0)\n",
       "install\n",
       "\tinstall(depth, dist_p_to_s, fixed_downtime, num_turbines, turbine_capacity, port_cost=25000000.0)\n",
       "electrical\n",
       "\telectrical(depth, dist_l_to_ts, dist_s_to_l, num_turbines, transmission_multi, turbine_capacity, transmission_cost=6536.666666666667)\n",
       "subcomponents\n",
       "\tsubcomponents(depth, dist_l_to_ts, dist_p_to_s, dist_s_to_l, fixed_downtime, num_turbines, transmission_multi, turbine_capacity, monopile_tp_cost=3230.0, outfitting_cost=7250.0, pile_cost=2250.0, port_cost=25000000.0, transmission_cost=6536.666666666667)\n",
       "development\n",
       "\tdevelopment(depth, dist_l_to_ts, dist_p_to_s, dist_s_to_l, fixed_downtime, num_turbines, transmission_multi, turbine_capacity, monopile_tp_cost=3230.0, outfitting_cost=7250.0, pile_cost=2250.0, port_cost=25000000.0, transmission_cost=6536.0)\n",
       "proj_mgmt\n",
       "\tproj_mgmt(depth, dist_l_to_ts, dist_p_to_s, dist_s_to_l, fixed_downtime, num_turbines, transmission_multi, turbine_capacity, monopile_tp_cost=3230.0, outfitting_cost=7250.0, pile_cost=2250.0, port_cost=25000000.0, transmission_cost=6536.0)\n",
       "bos\n",
       "\tbos(depth, dist_l_to_ts, dist_p_to_s, dist_s_to_l, fixed_downtime, num_turbines, transmission_multi, turbine_capacity, monopile_tp_cost=3230.0, outfitting_cost=7250.0, pile_cost=2250.0, port_cost=25000000.0, transmission_cost=6536.666666666667)\n",
       "constr_ins\n",
       "\tconstr_ins(depth, dist_l_to_ts, dist_p_to_s, dist_s_to_l, fixed_downtime, num_turbines, transmission_multi, turbine_capacity, monopile_tp_cost=3230.0, outfitting_cost=7250.0, pile_cost=2250.0, port_cost=25000000.0, transmission_cost=6536.0)\n",
       "decomm\n",
       "\tdecomm(depth, dist_p_to_s, fixed_downtime, num_turbines, turbine_capacity, port_cost=25000000.0)\n",
       "proj_comp\n",
       "\tproj_comp(depth, dist_l_to_ts, dist_p_to_s, dist_s_to_l, fixed_downtime, num_turbines, transmission_multi, turbine_capacity, monopile_tp_cost=3230.0, outfitting_cost=7250.0, pile_cost=2250.0, port_cost=25000000.0, transmission_cost=6536.0)\n",
       "procurement_cont\n",
       "\tprocurement_cont(depth, dist_l_to_ts, dist_p_to_s, dist_s_to_l, fixed_downtime, num_turbines, transmission_multi, turbine_capacity, monopile_tp_cost=3230.0, outfitting_cost=7250.0, pile_cost=2250.0, port_cost=25000000.0, transmission_cost=6536.0)\n",
       "install_cont\n",
       "\tinstall_cont(depth, dist_p_to_s, fixed_downtime, num_turbines, turbine_capacity, port_cost=25000000.0)\n",
       "cons_financing\n",
       "\tcons_financing(depth, dist_l_to_ts, dist_p_to_s, dist_s_to_l, fixed_downtime, num_turbines, transmission_multi, turbine_capacity, monopile_tp_cost=3230.0, outfitting_cost=7250.0, pile_cost=2250.0, port_cost=25000000.0, transmission_cost=6536.0)\n",
       "soft\n",
       "\tsoft(depth, dist_l_to_ts, dist_p_to_s, dist_s_to_l, fixed_downtime, num_turbines, transmission_multi, turbine_capacity, monopile_tp_cost=3230.0, outfitting_cost=7250.0, pile_cost=2250.0, port_cost=25000000.0, transmission_cost=6536.0)\n",
       "_capex\n",
       "\t_capex(capex_multi, depth, dist_l_to_ts, dist_p_to_s, dist_s_to_l, fixed_downtime, num_turbines, transmission_multi, turbine_capacity, monopile_tp_cost=3230.0, outfitting_cost=7250.0, pile_cost=2250.0, port_cost=25000000.0, transmission_cost=6536.0)\n",
       "capex\n",
       "\tcapex(capex_multi, depth, dist_l_to_ts, dist_p_to_s, dist_s_to_l, fixed_downtime, num_turbines, transmission_multi, turbine_capacity, monopile_tp_cost=3230.0, outfitting_cost=7250.0, pile_cost=2250.0, port_cost=25000000.0, transmission_cost=6536.0)\n",
       "operations\n",
       "\toperations()\n",
       "maintenance\n",
       "\tmaintenance(dist_op_to_s, hs_average, num_turbines)\n",
       "opex\n",
       "\topex(dist_op_to_s, hs_average, num_turbines)\n",
       "adjusted_gcf\n",
       "\tadjusted_gcf(gcf, turbine_capacity)\n",
       "wake\n",
       "\twake(aeff, array_efficiency_adj=0.02)\n",
       "elec\n",
       "\telec(depth, dist_s_to_l)\n",
       "avail\n",
       "\tavail(dist_op_to_s, hs_average, avail_adj=0.02)\n",
       "environmental\n",
       "\t0.0159\n",
       "technical\n",
       "\t0.01\n",
       "site_specific\n",
       "\tsite_specific(aeff, depth, dist_op_to_s, dist_s_to_l, hs_average, array_efficiency_adj=0.02, avail_adj=0.02)\n",
       "total_losses\n",
       "\ttotal_losses(aeff, depth, dist_op_to_s, dist_s_to_l, hs_average, array_efficiency_adj=0.02, avail_adj=0.02)\n",
       "ncf\n",
       "\tncf(aeff, depth, dist_op_to_s, dist_s_to_l, gcf, hs_average, turbine_capacity, array_efficiency_adj=0.02, avail_adj=0.02)\n",
       "lcoe\n",
       "\tlcoe(aeff, capex_multi, depth, dist_l_to_ts, dist_op_to_s, dist_p_to_s, dist_s_to_l, fixed_downtime, gcf, hs_average, num_turbines, transmission_multi, turbine_capacity, array_efficiency_adj=0.02, avail_adj=0.02, monopile_tp_cost=3230.0, outfitting_cost=7250.0, pile_cost=2250.0, port_cost=25000000.0, transmission_cost=6536.666666666667)"
      ]
     },
     "execution_count": 2,
     "metadata": {},
     "output_type": "execute_result"
    }
   ],
   "source": [
    "obj = NrwalConfig('./example_config_monopile_15MW_2028.yaml')\n",
    "obj"
   ]
  },
  {
   "cell_type": "code",
   "execution_count": null,
   "metadata": {},
   "outputs": [],
   "source": []
  },
  {
   "cell_type": "markdown",
   "metadata": {},
   "source": [
    "## Interacting with a NRWAL config object\n",
    "The NRWAL config object has many useful attributes and functions that can be seen listed below.\n",
    "\n",
    "In addition to the NRWAL config object attributes, the config's member equations and variables can be retrieved from the NRWAL config object using the standard python attribute or bracket syntax as shown below."
   ]
  },
  {
   "cell_type": "code",
   "execution_count": 3,
   "metadata": {},
   "outputs": [
    {
     "data": {
      "text/plain": [
       "['DEFAULT_DIR',\n",
       " 'all_variables',\n",
       " 'eval',\n",
       " 'evaluate',\n",
       " 'get',\n",
       " 'global_variables',\n",
       " 'head',\n",
       " 'inputs',\n",
       " 'items',\n",
       " 'keys',\n",
       " 'missing_inputs',\n",
       " 'outputs',\n",
       " 'required_inputs',\n",
       " 'reset_output',\n",
       " 'solvable',\n",
       " 'solved',\n",
       " 'tail',\n",
       " 'to_be_solved',\n",
       " 'values']"
      ]
     },
     "execution_count": 3,
     "metadata": {},
     "output_type": "execute_result"
    }
   ],
   "source": [
    "[attr for attr in dir(obj) if not attr.startswith('_')]"
   ]
  },
  {
   "cell_type": "code",
   "execution_count": 4,
   "metadata": {},
   "outputs": [
    {
     "data": {
      "text/plain": [
       "['_capex',\n",
       " 'adjusted_gcf',\n",
       " 'array',\n",
       " 'avail',\n",
       " 'bos',\n",
       " 'capex',\n",
       " 'confin_factor',\n",
       " 'cons_financing',\n",
       " 'constr_ins',\n",
       " 'construction_insurance',\n",
       " 'cost_reductions',\n",
       " 'decomissioning',\n",
       " 'decomm',\n",
       " 'development',\n",
       " 'development_factor',\n",
       " 'elec',\n",
       " 'electrical',\n",
       " 'environmental',\n",
       " 'export',\n",
       " 'fixed_charge_rate',\n",
       " 'foundation',\n",
       " 'grid',\n",
       " 'install',\n",
       " 'install_cont',\n",
       " 'install_contingency',\n",
       " 'interest_during_construction',\n",
       " 'lcoe',\n",
       " 'lease_price',\n",
       " 'maintenance',\n",
       " 'ncf',\n",
       " 'operations',\n",
       " 'opex',\n",
       " 'procurement_cont',\n",
       " 'procurement_contingency',\n",
       " 'proj_comp',\n",
       " 'proj_mgmt',\n",
       " 'proj_mgmt_factor',\n",
       " 'project_completion',\n",
       " 'pslt',\n",
       " 'site_specific',\n",
       " 'soft',\n",
       " 'sub_install',\n",
       " 'subcomponents',\n",
       " 'substructure',\n",
       " 'support',\n",
       " 'tax_rate',\n",
       " 'technical',\n",
       " 'total_losses',\n",
       " 'turbine',\n",
       " 'turbine_install',\n",
       " 'wake']"
      ]
     },
     "execution_count": 4,
     "metadata": {},
     "output_type": "execute_result"
    }
   ],
   "source": [
    "sorted(list(obj.keys()))"
   ]
  },
  {
   "cell_type": "code",
   "execution_count": 5,
   "metadata": {},
   "outputs": [
    {
     "data": {
      "text/plain": [
       "(0.071, NRWAL.handlers.equations.Equation)"
      ]
     },
     "execution_count": 5,
     "metadata": {},
     "output_type": "execute_result"
    }
   ],
   "source": [
    "obj.fixed_charge_rate, type(obj.fixed_charge_rate)"
   ]
  },
  {
   "cell_type": "code",
   "execution_count": 6,
   "metadata": {},
   "outputs": [
    {
     "data": {
      "text/plain": [
       "(substructure(depth, num_turbines, monopile_tp_cost=3230.0, outfitting_cost=7250.0),\n",
       " NRWAL.handlers.equations.Equation)"
      ]
     },
     "execution_count": 6,
     "metadata": {},
     "output_type": "execute_result"
    }
   ],
   "source": [
    "obj['substructure'], type(obj['substructure'])"
   ]
  },
  {
   "cell_type": "markdown",
   "metadata": {},
   "source": [
    "## Using NRWAL Equation Objects\n",
    "NRWAL Equations are objects that can be used as standalone evaluation tools "
   ]
  },
  {
   "cell_type": "code",
   "execution_count": 7,
   "metadata": {},
   "outputs": [
    {
     "data": {
      "text/plain": [
       "substructure(depth, num_turbines, monopile_tp_cost=3230.0, outfitting_cost=7250.0)"
      ]
     },
     "execution_count": 7,
     "metadata": {},
     "output_type": "execute_result"
    }
   ],
   "source": [
    "obj['substructure']"
   ]
  },
  {
   "cell_type": "code",
   "execution_count": 8,
   "metadata": {},
   "outputs": [
    {
     "data": {
      "text/plain": [
       "['ILLEGAL',\n",
       " 'default_variables',\n",
       " 'eval',\n",
       " 'evaluate',\n",
       " 'full',\n",
       " 'is_equation',\n",
       " 'is_method',\n",
       " 'is_num',\n",
       " 'parse_variables',\n",
       " 'set_default_variables',\n",
       " 'variables']"
      ]
     },
     "execution_count": 8,
     "metadata": {},
     "output_type": "execute_result"
    }
   ],
   "source": [
    "[attr for attr in dir(obj['substructure']) if not attr.startswith('_')]"
   ]
  },
  {
   "cell_type": "code",
   "execution_count": 9,
   "metadata": {},
   "outputs": [
    {
     "data": {
      "text/plain": [
       "'((np.exp(2.7718897 + 1.0367192 * 10 ** 0.5 + 0.0012651901 * depth ** 1.5) * monopile_tp_cost * num_turbines) + ((50 + (0.8 * (18 + depth))) * outfitting_cost * num_turbines)) * ((1) - (0.0))'"
      ]
     },
     "execution_count": 9,
     "metadata": {},
     "output_type": "execute_result"
    }
   ],
   "source": [
    "obj['substructure'].full"
   ]
  },
  {
   "cell_type": "code",
   "execution_count": 10,
   "metadata": {},
   "outputs": [
    {
     "data": {
      "text/plain": [
       "['depth', 'monopile_tp_cost', 'num_turbines', 'outfitting_cost']"
      ]
     },
     "execution_count": 10,
     "metadata": {},
     "output_type": "execute_result"
    }
   ],
   "source": [
    "obj['substructure'].variables"
   ]
  },
  {
   "cell_type": "markdown",
   "metadata": {},
   "source": [
    "## Evaluating a NRWAL Equation Object\n",
    "\n",
    "The default variables in a NRWAL Equation object are variables made available to the Equation through the variables set in the config file or through a variables.yaml file in the same directory from which the equation was retrieved\n",
    "\n",
    "Below you can see how an Equation object can be evaluated by passing in the required inputs as kwargs. The inputs with defaults (monopile_tp_cost and outfitting_cost) can be overwritten at runtime if desired. "
   ]
  },
  {
   "cell_type": "code",
   "execution_count": 11,
   "metadata": {},
   "outputs": [
    {
     "data": {
      "text/plain": [
       "{'transmission_cost': 6536.666666666667,\n",
       " 'tower_cost': 3960.0,\n",
       " 'pile_cost': 2250.0,\n",
       " 'monopile_tp_cost': 3230.0,\n",
       " 'lattice_cost': 4680.0,\n",
       " 'jacket_tp_cost': 4599.0,\n",
       " 'stiffened_column_cost': 3120.0,\n",
       " 'tapered_column_cost': 4220.0,\n",
       " 'truss_cost': 6250.0,\n",
       " 'heave_plate_cost': 5250.0,\n",
       " 'outfitting_cost': 7250.0,\n",
       " 'perm_ballast_cost': 150.0,\n",
       " 'operations_cost': 18880383.0,\n",
       " 'port_cost': 25000000.0,\n",
       " 'hz_turbine_factor': 0.05,\n",
       " 'vertical_tow_OM_equip': 13400000.0,\n",
       " 'lease_price': 50000000.0,\n",
       " 'array_efficiency_adj': 0.02,\n",
       " 'avail_adj': 0.02,\n",
       " 'fixed_charge_rate': 0.071,\n",
       " 'development_factor': 0.04,\n",
       " 'proj_mgmt_factor': 0.02,\n",
       " 'construction_insurance': 0.0115,\n",
       " 'project_completion': 0.0115,\n",
       " 'decomissioning': 0.1725,\n",
       " 'procurement_contingency': 0.0575,\n",
       " 'install_contingency': 0.345,\n",
       " 'confin_factor': 1.043012405771711,\n",
       " 'interest_during_construction': 0.044,\n",
       " 'tax_rate': 0.26,\n",
       " 'environmental': 0.0159,\n",
       " 'technical': 0.01,\n",
       " 'workspace_15': substructure(depth, num_turbines, monopile_tp_cost=3230.0, outfitting_cost=7250.0),\n",
       " 'workspace_16': substructure()}"
      ]
     },
     "execution_count": 11,
     "metadata": {},
     "output_type": "execute_result"
    }
   ],
   "source": [
    "obj['substructure'].default_variables"
   ]
  },
  {
   "cell_type": "code",
   "execution_count": 12,
   "metadata": {},
   "outputs": [
    {
     "data": {
      "text/plain": [
       "substructure(depth, num_turbines, monopile_tp_cost=3230.0, outfitting_cost=7250.0)"
      ]
     },
     "execution_count": 12,
     "metadata": {},
     "output_type": "execute_result"
    }
   ],
   "source": [
    "obj['substructure']"
   ]
  },
  {
   "cell_type": "code",
   "execution_count": 13,
   "metadata": {},
   "outputs": [
    {
     "data": {
      "text/plain": [
       "3.254009194341046e+24"
      ]
     },
     "execution_count": 13,
     "metadata": {},
     "output_type": "execute_result"
    }
   ],
   "source": [
    "obj['substructure'].evaluate(depth=1000, num_turbines=10)"
   ]
  },
  {
   "cell_type": "code",
   "execution_count": 14,
   "metadata": {},
   "outputs": [
    {
     "data": {
      "text/plain": [
       "4.0297327484099635e+24"
      ]
     },
     "execution_count": 14,
     "metadata": {},
     "output_type": "execute_result"
    }
   ],
   "source": [
    "obj['substructure'].evaluate(depth=1000, num_turbines=10, monopile_tp_cost=4000.0, outfitting_cost=10250.0)"
   ]
  },
  {
   "cell_type": "code",
   "execution_count": 15,
   "metadata": {},
   "outputs": [
    {
     "data": {
      "text/plain": [
       "array([1.15008171e+24, 1.02838077e+25, 1.05621977e+24, 3.81452142e+24])"
      ]
     },
     "execution_count": 15,
     "metadata": {},
     "output_type": "execute_result"
    }
   ],
   "source": [
    "obj['substructure'].evaluate(depth=np.random.normal(1000, 10, 4), num_turbines=np.full(4, 10))"
   ]
  },
  {
   "cell_type": "markdown",
   "metadata": {},
   "source": [
    "# Evaluating a Full NRWAL Config Object\n",
    "Here you can see how the full config object and all the member equations can be evaluated all at once. We use the `required_inputs` property to generate a namespace of generic example inputs, then evaluate all the equations in the config. The output is a namespace of outputs. \n",
    "\n",
    "Note also that retrieving members from the config once evaluated will return their output value. You can reset the outputs by calling the `reset_output()` method."
   ]
  },
  {
   "cell_type": "code",
   "execution_count": 16,
   "metadata": {},
   "outputs": [
    {
     "data": {
      "text/plain": [
       "['aeff',\n",
       " 'capex_multi',\n",
       " 'depth',\n",
       " 'dist_l_to_ts',\n",
       " 'dist_op_to_s',\n",
       " 'dist_p_to_s',\n",
       " 'dist_s_to_l',\n",
       " 'fixed_downtime',\n",
       " 'gcf',\n",
       " 'hs_average',\n",
       " 'num_turbines',\n",
       " 'transmission_multi',\n",
       " 'turbine_capacity']"
      ]
     },
     "execution_count": 16,
     "metadata": {},
     "output_type": "execute_result"
    }
   ],
   "source": [
    "obj.required_inputs"
   ]
  },
  {
   "cell_type": "code",
   "execution_count": 17,
   "metadata": {},
   "outputs": [
    {
     "data": {
      "text/plain": [
       "{'aeff': 1,\n",
       " 'capex_multi': 1,\n",
       " 'depth': 2,\n",
       " 'dist_l_to_ts': 2,\n",
       " 'dist_op_to_s': 2,\n",
       " 'dist_p_to_s': 2,\n",
       " 'dist_s_to_l': 2,\n",
       " 'fixed_downtime': 2,\n",
       " 'gcf': 0.7,\n",
       " 'hs_average': 2,\n",
       " 'num_turbines': 2,\n",
       " 'transmission_multi': 2,\n",
       " 'turbine_capacity': 2}"
      ]
     },
     "execution_count": 17,
     "metadata": {},
     "output_type": "execute_result"
    }
   ],
   "source": [
    "inputs = {var: 2 for var in obj.required_inputs}\n",
    "inputs['aeff'] = 1\n",
    "inputs['capex_multi'] = 1\n",
    "inputs['gcf'] = 0.7\n",
    "inputs"
   ]
  },
  {
   "cell_type": "code",
   "execution_count": 18,
   "metadata": {},
   "outputs": [
    {
     "data": {
      "text/plain": [
       "{'turbine': 4908800.0,\n",
       " 'turbine_install': -1094053.1223272171,\n",
       " 'substructure': 3707372.0758541236,\n",
       " 'foundation': 351936.1127177335,\n",
       " 'sub_install': -37396384.4512113,\n",
       " 'pslt': 25150126.803737257,\n",
       " 'array': 149219285.5286,\n",
       " 'export': 76283291.62304999,\n",
       " 'grid': 104586.66666666667,\n",
       " 'support': 4059308.1885718573,\n",
       " 'install': -13340310.769801265,\n",
       " 'electrical': 225607163.81831667,\n",
       " 'subcomponents': 216326161.23708728,\n",
       " 'development': 8849398.022816826,\n",
       " 'proj_mgmt': 4424699.011408413,\n",
       " 'bos': 279600258.9113125,\n",
       " 'constr_ins': 3271854.047453427,\n",
       " 'decomm': -6639600.481435394,\n",
       " 'proj_comp': 3271854.047453427,\n",
       " 'procurement_cont': 18572470.3977456,\n",
       " 'install_cont': -13279200.962870788,\n",
       " 'cons_financing': 12460970.291846098,\n",
       " 'soft': 17658347.340192374,\n",
       " '_capex': 302167394.9448382,\n",
       " 'capex': 231877215.53276995,\n",
       " 'operations': 18880383.0,\n",
       " 'maintenance': -52346278.373180375,\n",
       " 'opex': -25385220.276372243,\n",
       " 'adjusted_gcf': 0.68677,\n",
       " 'wake': -0.020000000000000018,\n",
       " 'elec': 0.02283438186034884,\n",
       " 'avail': 0.09400193200000007,\n",
       " 'site_specific': 0.09698363460643933,\n",
       " 'total_losses': 0.12022817886803505,\n",
       " 'ncf': 0.6421326256989323,\n",
       " 'lcoe': -396.5247793157478}"
      ]
     },
     "execution_count": 18,
     "metadata": {},
     "output_type": "execute_result"
    }
   ],
   "source": [
    "obj.inputs = inputs\n",
    "out = obj.evaluate()\n",
    "out"
   ]
  },
  {
   "cell_type": "code",
   "execution_count": 19,
   "metadata": {},
   "outputs": [
    {
     "data": {
      "text/plain": [
       "3707372.0758541236"
      ]
     },
     "execution_count": 19,
     "metadata": {},
     "output_type": "execute_result"
    }
   ],
   "source": [
    "obj['substructure']"
   ]
  },
  {
   "cell_type": "code",
   "execution_count": 20,
   "metadata": {},
   "outputs": [],
   "source": [
    "obj.reset_output()"
   ]
  },
  {
   "cell_type": "code",
   "execution_count": 21,
   "metadata": {},
   "outputs": [
    {
     "data": {
      "text/plain": [
       "substructure(depth, num_turbines, monopile_tp_cost=3230.0, outfitting_cost=7250.0)"
      ]
     },
     "execution_count": 21,
     "metadata": {},
     "output_type": "execute_result"
    }
   ],
   "source": [
    "obj['substructure']"
   ]
  }
 ],
 "metadata": {
  "kernelspec": {
   "display_name": "Python 3",
   "language": "python",
   "name": "python3"
  },
  "language_info": {
   "codemirror_mode": {
    "name": "ipython",
    "version": 3
   },
   "file_extension": ".py",
   "mimetype": "text/x-python",
   "name": "python",
   "nbconvert_exporter": "python",
   "pygments_lexer": "ipython3",
   "version": "3.8.3"
  }
 },
 "nbformat": 4,
 "nbformat_minor": 4
}
